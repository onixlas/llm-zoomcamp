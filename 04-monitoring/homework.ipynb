{
 "cells": [
  {
   "cell_type": "code",
   "execution_count": 54,
   "id": "fa518276-6870-496f-b3df-27084abd71fb",
   "metadata": {},
   "outputs": [],
   "source": [
    "import pandas as pd\n",
    "import numpy as np\n",
    "from sentence_transformers import SentenceTransformer\n",
    "from rouge import Rouge"
   ]
  },
  {
   "cell_type": "code",
   "execution_count": 2,
   "id": "5ab382d8-b4cf-41df-a556-8d479d7fedcf",
   "metadata": {},
   "outputs": [],
   "source": [
    "github_url = 'https://github.com/DataTalksClub/llm-zoomcamp/blob/main/04-monitoring/data/results-gpt4o-mini.csv'"
   ]
  },
  {
   "cell_type": "code",
   "execution_count": 3,
   "id": "be2aa7d3-a84c-40f7-96ce-a7b988944d33",
   "metadata": {},
   "outputs": [],
   "source": [
    "url = f'{github_url}?raw=1'"
   ]
  },
  {
   "cell_type": "code",
   "execution_count": 4,
   "id": "03fb2a71-d709-4b72-a73f-8473de969cb6",
   "metadata": {},
   "outputs": [],
   "source": [
    "df = pd.read_csv(url)"
   ]
  },
  {
   "cell_type": "code",
   "execution_count": 5,
   "id": "e149d8fe-e00b-4c7b-9d96-6564b637f618",
   "metadata": {},
   "outputs": [],
   "source": [
    "df = df.iloc[:300]"
   ]
  },
  {
   "cell_type": "code",
   "execution_count": 6,
   "id": "871becf0-b524-4ed7-9c81-6e46fd306444",
   "metadata": {},
   "outputs": [],
   "source": [
    "model_name = 'multi-qa-mpnet-base-dot-v1'"
   ]
  },
  {
   "cell_type": "code",
   "execution_count": 8,
   "id": "9486ce29-17b1-4465-ae62-56fd4ebaa45e",
   "metadata": {},
   "outputs": [],
   "source": [
    "embedding_model = SentenceTransformer(model_name)"
   ]
  },
  {
   "cell_type": "code",
   "execution_count": 9,
   "id": "7df10848-c789-4f93-816b-1cd69cc6bbd8",
   "metadata": {},
   "outputs": [],
   "source": [
    "answer_llm = df.iloc[0].answer_llm"
   ]
  },
  {
   "cell_type": "code",
   "execution_count": 11,
   "id": "696d354f-7aac-473f-8f1a-62d2700af8ed",
   "metadata": {},
   "outputs": [
    {
     "data": {
      "text/plain": [
       "np.float32(-0.4224468)"
      ]
     },
     "execution_count": 11,
     "metadata": {},
     "output_type": "execute_result"
    }
   ],
   "source": [
    "embedding_model.encode(answer_llm)[0]"
   ]
  },
  {
   "cell_type": "code",
   "execution_count": 13,
   "id": "26783744-a220-4367-80d7-c50cb0ff9f10",
   "metadata": {},
   "outputs": [
    {
     "name": "stderr",
     "output_type": "stream",
     "text": [
      "Batches: 100%|██████████████████████████████████| 10/10 [00:00<00:00, 13.64it/s]\n"
     ]
    }
   ],
   "source": [
    "answer_llm_emb = embedding_model.encode(df.answer_llm, show_progress_bar=True)"
   ]
  },
  {
   "cell_type": "code",
   "execution_count": 14,
   "id": "471de298-8240-46d9-b2bb-f63b968f0e33",
   "metadata": {},
   "outputs": [
    {
     "name": "stderr",
     "output_type": "stream",
     "text": [
      "Batches: 100%|██████████████████████████████████| 10/10 [00:00<00:00, 11.38it/s]\n"
     ]
    }
   ],
   "source": [
    "answer_orig_emb = embedding_model.encode(df.answer_orig, show_progress_bar=True)"
   ]
  },
  {
   "cell_type": "code",
   "execution_count": 20,
   "id": "acf18aa4-ef42-44fe-8630-dc513930b8df",
   "metadata": {},
   "outputs": [],
   "source": [
    "evaluations = [llm_emb.dot(orig_llm) for llm_emb, orig_llm in zip(answer_llm_emb, answer_orig_emb)]"
   ]
  },
  {
   "cell_type": "code",
   "execution_count": 24,
   "id": "46f47f34-6118-4bbc-a9a7-2ed298720cdb",
   "metadata": {},
   "outputs": [
    {
     "data": {
      "text/plain": [
       "np.float32(31.674313)"
      ]
     },
     "execution_count": 24,
     "metadata": {},
     "output_type": "execute_result"
    }
   ],
   "source": [
    "np.percentile(evaluations, 75)"
   ]
  },
  {
   "cell_type": "code",
   "execution_count": 30,
   "id": "3310c89b-b31a-4939-9f99-697fa9365bd0",
   "metadata": {
    "scrolled": true
   },
   "outputs": [],
   "source": [
    "norm = np.sqrt((answer_llm_emb * answer_llm_emb).sum(axis=1))"
   ]
  },
  {
   "cell_type": "code",
   "execution_count": 46,
   "id": "8ac78c63-9b9f-4e06-82f4-e863c83cc82d",
   "metadata": {},
   "outputs": [],
   "source": [
    "answer_llm_emb_norm = np.divide(answer_llm_emb.T, norm).T"
   ]
  },
  {
   "cell_type": "code",
   "execution_count": 48,
   "id": "ea942611-bd42-434f-8410-16ecaf9ddcfc",
   "metadata": {},
   "outputs": [],
   "source": [
    "norm_orig = np.sqrt((answer_orig_emb * answer_orig_emb).sum(axis=1))"
   ]
  },
  {
   "cell_type": "code",
   "execution_count": 50,
   "id": "9e324f7d-5779-4649-b9e5-db19654130e7",
   "metadata": {},
   "outputs": [],
   "source": [
    "answer_orig_emb_norm = np.divide(answer_orig_emb.T, norm).T"
   ]
  },
  {
   "cell_type": "code",
   "execution_count": 51,
   "id": "d852255b-e9ba-45c5-baa6-5eeb248ac5a4",
   "metadata": {},
   "outputs": [],
   "source": [
    "evaluations_norm = [llm_emb.dot(orig_llm) for llm_emb, orig_llm in zip(answer_llm_emb_norm, answer_orig_emb_norm)]"
   ]
  },
  {
   "cell_type": "code",
   "execution_count": 52,
   "id": "ee383a1d-eb97-4b0f-8233-189feaf7646a",
   "metadata": {},
   "outputs": [
    {
     "data": {
      "text/plain": [
       "np.float32(0.85372615)"
      ]
     },
     "execution_count": 52,
     "metadata": {},
     "output_type": "execute_result"
    }
   ],
   "source": [
    "np.percentile(evaluations_norm, 75)"
   ]
  },
  {
   "cell_type": "code",
   "execution_count": 56,
   "id": "9d09a820-dfe0-4589-8a23-e84ed9173a32",
   "metadata": {},
   "outputs": [],
   "source": [
    "rouge_scorer = Rouge()"
   ]
  },
  {
   "cell_type": "code",
   "execution_count": 60,
   "id": "db808658-f156-4b4b-84d1-39c21897bf92",
   "metadata": {},
   "outputs": [],
   "source": [
    "r = df.iloc[10]"
   ]
  },
  {
   "cell_type": "code",
   "execution_count": 61,
   "id": "2903ba9a-40e8-4b7a-8de2-10ecd0d9a71d",
   "metadata": {},
   "outputs": [],
   "source": [
    "scores = rouge_scorer.get_scores(r['answer_llm'], r['answer_orig'])[0]"
   ]
  },
  {
   "cell_type": "code",
   "execution_count": 62,
   "id": "36cb7895-4755-42e6-af1b-45c3f9eb2246",
   "metadata": {},
   "outputs": [
    {
     "data": {
      "text/plain": [
       "{'rouge-1': {'r': 0.45454545454545453,\n",
       "  'p': 0.45454545454545453,\n",
       "  'f': 0.45454544954545456},\n",
       " 'rouge-2': {'r': 0.21621621621621623,\n",
       "  'p': 0.21621621621621623,\n",
       "  'f': 0.21621621121621637},\n",
       " 'rouge-l': {'r': 0.3939393939393939,\n",
       "  'p': 0.3939393939393939,\n",
       "  'f': 0.393939388939394}}"
      ]
     },
     "execution_count": 62,
     "metadata": {},
     "output_type": "execute_result"
    }
   ],
   "source": [
    "scores"
   ]
  },
  {
   "cell_type": "code",
   "execution_count": 65,
   "id": "1a75855a-e96d-469a-aacf-1484efacb2f5",
   "metadata": {},
   "outputs": [
    {
     "data": {
      "text/plain": [
       "0.3549003549003549"
      ]
     },
     "execution_count": 65,
     "metadata": {},
     "output_type": "execute_result"
    }
   ],
   "source": [
    "sum([scores[ro]['r'] for ro in scores])/3"
   ]
  },
  {
   "cell_type": "code",
   "execution_count": 70,
   "id": "216e6df7-3e27-40a3-b834-c9decc556bb9",
   "metadata": {
    "scrolled": true
   },
   "outputs": [],
   "source": [
    "def get_avg_rouge(row):\n",
    "    scores = rouge_scorer.get_scores(row['answer_llm'], row['answer_orig'])[0]\n",
    "    rouge_2 = scores['rouge-2']['f']\n",
    "    return rouge_2"
   ]
  },
  {
   "cell_type": "code",
   "execution_count": 72,
   "id": "a4c341dc-e28d-41a5-8344-f58b65a2f1a7",
   "metadata": {},
   "outputs": [
    {
     "data": {
      "text/plain": [
       "count    300.000000\n",
       "mean       0.206965\n",
       "std        0.153550\n",
       "min        0.000000\n",
       "25%        0.097809\n",
       "50%        0.178671\n",
       "75%        0.286181\n",
       "max        0.739130\n",
       "dtype: float64"
      ]
     },
     "execution_count": 72,
     "metadata": {},
     "output_type": "execute_result"
    }
   ],
   "source": [
    "df.apply(get_avg_rouge, axis=1).describe()"
   ]
  },
  {
   "cell_type": "code",
   "execution_count": null,
   "id": "1c47977f-7eac-486b-b18a-b75012ad1049",
   "metadata": {},
   "outputs": [],
   "source": []
  }
 ],
 "metadata": {
  "kernelspec": {
   "display_name": "Python 3 (ipykernel)",
   "language": "python",
   "name": "python3"
  },
  "language_info": {
   "codemirror_mode": {
    "name": "ipython",
    "version": 3
   },
   "file_extension": ".py",
   "mimetype": "text/x-python",
   "name": "python",
   "nbconvert_exporter": "python",
   "pygments_lexer": "ipython3",
   "version": "3.12.3"
  }
 },
 "nbformat": 4,
 "nbformat_minor": 5
}
